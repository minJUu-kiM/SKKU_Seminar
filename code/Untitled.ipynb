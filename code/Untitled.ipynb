{
 "cells": [
  {
   "cell_type": "code",
   "execution_count": 32,
   "id": "24711fb7",
   "metadata": {},
   "outputs": [],
   "source": [
    "#구글 드라이버 없이하기\n",
    "from selenium import webdriver\n",
    "from selenium.webdriver.chrome.service import Service\n",
    "from webdriver_manager.chrome import ChromeDriverManager\n",
    "\n",
    "chrome_options = webdriver.ChromeOptions()\n",
    "driver = webdriver.Chrome(service=Service(ChromeDriverManager().install()), options=chrome_options)"
   ]
  },
  {
   "cell_type": "code",
   "execution_count": 33,
   "id": "453d409d",
   "metadata": {},
   "outputs": [],
   "source": [
    "#모듈 불러오기\n",
    "import selenium\n",
    "from selenium.webdriver.common.by import By\n",
    "import time\n",
    "import pandas as pd\n",
    "from bs4 import BeautifulSoup\n",
    "import requests\n",
    "from itertools import repeat\n"
   ]
  },
  {
   "cell_type": "code",
   "execution_count": 34,
   "id": "10cc47d3",
   "metadata": {},
   "outputs": [],
   "source": [
    "#크롬드라이버가 url 접속하도록 하기\n",
    "#크롬드라이버 열기\n",
    "chrome_options = webdriver.ChromeOptions()\n",
    "driver = webdriver.Chrome(service=Service(ChromeDriverManager().install()), options=chrome_options)\n",
    "\n",
    "#드라이버가 해당 url접속\n",
    "url = 'https://www.melon.com/chart/index.htm'\n",
    "driver.get(url)\n"
   ]
  },
  {
   "cell_type": "markdown",
   "id": "97a33603",
   "metadata": {},
   "source": [
    "# 함수 만들기"
   ]
  },
  {
   "cell_type": "markdown",
   "id": "92b27c2a",
   "metadata": {},
   "source": [
    "## 클릭 함수 만들기"
   ]
  },
  {
   "cell_type": "code",
   "execution_count": 35,
   "id": "893912ca",
   "metadata": {},
   "outputs": [],
   "source": [
    "\n",
    "\n",
    "# 연대선택 era_num=1 : 2020년대, era_num=2 : 2010년대\n",
    "def click_era(era_num) :    \n",
    "    driver.find_element(By.PATH,'//*[@id=\"d_chart_search\"]/div/div/div[1]/div[1]/ul/li['+str(era_num)+']/span/label').click()\n",
    "    time.sleep(0.1)\n",
    "    \n",
    "# 연도선택 year_num : 최근 -> 과거\n",
    "def click_year(year_num) :\n",
    "    driver.find_element(By.PATH,'//*[@id=\"d_chart_search\"]/div/div/div[2]/div[1]/ul/li['+str(year_num)+']/span/label').click()\n",
    "    time.sleep(0.1)\n",
    "\n",
    "# 월간선택 \n",
    "def click_month(month_year) :\n",
    "    driver.find_element(By.PATH,'//*[@id=\"d_chart_search\"]/div/div/div[3]/div[1]/ul/li['+str(month_year)+']/span/label').click()\n",
    "    time.sleep(0.1)\n",
    "\n",
    "# 주간 선택\n",
    "def click_week(week_num) :\n",
    "    driver.find_element(By.PATH,'//*[@id=\"d_chart_search\"]/div/div/div[4]/div[1]/ul/li['+str(week_num)+']/span/label').click()\n",
    "    time.sleep(0.1)\n",
    "\n",
    "# 장르선택 ('장르 종합'으로 선택)\n",
    "def click_genre() :\n",
    "    driver.find_element(By.PATH,'//*[@id=\"d_chart_search\"]/div/div/div[5]/div[1]/ul/li[1]/span/label').click()\n",
    "    time.sleep(0.1)\n",
    "    \n",
    "    \n",
    "# 검색버튼 클릭\n",
    "def click_search() :\n",
    "    driver.find_element(By.PATH,'//*[@id=\"d_srch_form\"]/div[2]/button/span/span').click()\n",
    "    time.sleep(0.1)"
   ]
  },
  {
   "cell_type": "markdown",
   "id": "47b26167",
   "metadata": {},
   "source": [
    "## 선택 개수 찾기 함수 만들기"
   ]
  },
  {
   "cell_type": "code",
   "execution_count": 36,
   "id": "0bcddff6",
   "metadata": {},
   "outputs": [],
   "source": [
    "# 연대선택 개수 찾기\n",
    "def find_era_length() :\n",
    "    elements = driver.find_elements(By.CSS_SELECTOR, 'div.box_chic.nth1.view > div.list_value > ul > li')\n",
    "    length = len(elements)\n",
    "    return length    \n",
    "    \n",
    "# 연도선택 개수 찾기\n",
    "def find_year_length() :\n",
    "    elements = driver.find_elements(By.CSS_SELECTOR, 'div.box_chic.nth2.view > div.list_value > ul > li')\n",
    "    length = len(elements)\n",
    "    return length\n",
    "\n",
    "# 월간선택 개수 찾기\n",
    "def find_month_length() :\n",
    "    elements = driver.find_elements(By.CSS_SELECTOR, 'div.box_chic.nth3.view > div.list_value > ul > li')\n",
    "    length = len(elements)\n",
    "    return length\n",
    "\n",
    "# 주간선택 개수 찾기\n",
    "def find_week_length() :\n",
    "    elements = driver.find_elements(By.CSS_SELECTOR, 'div.box_chic.nth4.view > div.list_value > ul > li')\n",
    "    length = len(elements)\n",
    "    return length"
   ]
  },
  {
   "cell_type": "markdown",
   "id": "1fe1d389",
   "metadata": {},
   "source": [
    "## 크롤링 및 저장 함수 만들기"
   ]
  },
  {
   "cell_type": "code",
   "execution_count": 37,
   "id": "174054ae",
   "metadata": {},
   "outputs": [],
   "source": [
    "# 크롤링 & 저장하기\n",
    "def crawling_and_save_to_csv(year_num, month_num, week_num) :\n",
    "    \n",
    "    # html 정보 가져오기\n",
    "    html = driver.page_source\n",
    "    soup = BeautifulSoup(html, 'lxml')\n",
    "    \n",
    "    #순위 가져오기\n",
    "    song = [title.find('strong').get_text() for title in soup.find_all('div', attrs={'class': 'ellipsis rank01'})]\n",
    "    ranks = []\n",
    "    for i in range(len(song)):\n",
    "        ranks.append(i+1)\n",
    "    \n",
    "    # 가수명 가져오기\n",
    "    artist_name_list = []\n",
    "    for artist_name in soup.find_all('span', attrs={'class':'checkEllipsis'}) :\n",
    "        artist_name_list.append(artist_name.get_text())\n",
    "    \n",
    "    # 곡명 가져오기\n",
    "    song_name_list = []\n",
    "    for song_name in soup.find_all('div', attrs={'class': 'ellipsis rank01'}) :\n",
    "        song_name_list.append(song_name.find('strong').get_text())\n",
    "    \n",
    "    # 곡 아이디 가져오기\n",
    "    song_id_list=[]\n",
    "    for song_id in soup.find_all('input',{'name':'input_check'}):\n",
    "        song_id_list.append(song_id.get('value'))\n",
    "        \n",
    "    # 파일 제목 정하기    \n",
    "    year = soup.find('input',{'id':'year_'+str(year_num)}).get('value')\n",
    "    month = soup.find('input',{'id':'month_'+str(month_num)}).get('value')\n",
    "    week = week_num\n",
    "    date = str(year)+'-'+str(month)+'-'+str(week)\n",
    "    \n",
    "    \n",
    "    \n",
    "    # 데이터프레임 만들기\n",
    "    df = pd.DataFrame({\"rank\" : ranks, \"artist_name\" : artist_name_list, \"song_name\" : song_name_list, \"song_id\" : song_id_list})\n",
    "    \n",
    "    # csv로 저장\n",
    "    df.to_csv('csv/song_TOP100_list/'+date+'_TOP100.csv',encoding='utf-8-sig', index=False)\n"
   ]
  },
  {
   "cell_type": "code",
   "execution_count": null,
   "id": "45133e7a",
   "metadata": {},
   "outputs": [],
   "source": []
  },
  {
   "cell_type": "markdown",
   "id": "29ecc870",
   "metadata": {},
   "source": [
    "# 크롤링"
   ]
  },
  {
   "cell_type": "code",
   "execution_count": 38,
   "id": "16df2dfb",
   "metadata": {},
   "outputs": [
    {
     "ename": "AttributeError",
     "evalue": "type object 'By' has no attribute 'PATH'",
     "output_type": "error",
     "traceback": [
      "\u001b[1;31m---------------------------------------------------------------------------\u001b[0m",
      "\u001b[1;31mAttributeError\u001b[0m                            Traceback (most recent call last)",
      "\u001b[1;32m~\\AppData\\Local\\Temp\\ipykernel_25596\\1570143692.py\u001b[0m in \u001b[0;36m<module>\u001b[1;34m\u001b[0m\n\u001b[0;32m     15\u001b[0m \u001b[0mlen_era\u001b[0m \u001b[1;33m=\u001b[0m \u001b[0mfind_era_length\u001b[0m\u001b[1;33m(\u001b[0m\u001b[1;33m)\u001b[0m\u001b[1;33m\u001b[0m\u001b[1;33m\u001b[0m\u001b[0m\n\u001b[0;32m     16\u001b[0m \u001b[1;32mfor\u001b[0m \u001b[0mi\u001b[0m \u001b[1;32min\u001b[0m \u001b[0mrange\u001b[0m\u001b[1;33m(\u001b[0m\u001b[1;36m1\u001b[0m\u001b[1;33m,\u001b[0m\u001b[0mlen_era\u001b[0m\u001b[1;33m+\u001b[0m\u001b[1;36m1\u001b[0m\u001b[1;33m)\u001b[0m \u001b[1;33m:\u001b[0m\u001b[1;33m\u001b[0m\u001b[1;33m\u001b[0m\u001b[0m\n\u001b[1;32m---> 17\u001b[1;33m     \u001b[0mclick_era\u001b[0m\u001b[1;33m(\u001b[0m\u001b[0mi\u001b[0m\u001b[1;33m)\u001b[0m\u001b[1;33m\u001b[0m\u001b[1;33m\u001b[0m\u001b[0m\n\u001b[0m\u001b[0;32m     18\u001b[0m \u001b[1;33m\u001b[0m\u001b[0m\n\u001b[0;32m     19\u001b[0m     \u001b[0mlen_year\u001b[0m \u001b[1;33m=\u001b[0m \u001b[0mfind_year_length\u001b[0m\u001b[1;33m(\u001b[0m\u001b[1;33m)\u001b[0m\u001b[1;33m\u001b[0m\u001b[1;33m\u001b[0m\u001b[0m\n",
      "\u001b[1;32m~\\AppData\\Local\\Temp\\ipykernel_25596\\2456126777.py\u001b[0m in \u001b[0;36mclick_era\u001b[1;34m(era_num)\u001b[0m\n\u001b[0;32m      1\u001b[0m \u001b[1;31m# 연대선택 era_num=1 : 2020년대, era_num=2 : 2010년대\u001b[0m\u001b[1;33m\u001b[0m\u001b[1;33m\u001b[0m\u001b[0m\n\u001b[0;32m      2\u001b[0m \u001b[1;32mdef\u001b[0m \u001b[0mclick_era\u001b[0m\u001b[1;33m(\u001b[0m\u001b[0mera_num\u001b[0m\u001b[1;33m)\u001b[0m \u001b[1;33m:\u001b[0m\u001b[1;33m\u001b[0m\u001b[1;33m\u001b[0m\u001b[0m\n\u001b[1;32m----> 3\u001b[1;33m     \u001b[0mdriver\u001b[0m\u001b[1;33m.\u001b[0m\u001b[0mfind_element\u001b[0m\u001b[1;33m(\u001b[0m\u001b[0mBy\u001b[0m\u001b[1;33m.\u001b[0m\u001b[0mPATH\u001b[0m\u001b[1;33m,\u001b[0m\u001b[1;34m'//*[@id=\"d_chart_search\"]/div/div/div[1]/div[1]/ul/li['\u001b[0m\u001b[1;33m+\u001b[0m\u001b[0mstr\u001b[0m\u001b[1;33m(\u001b[0m\u001b[0mera_num\u001b[0m\u001b[1;33m)\u001b[0m\u001b[1;33m+\u001b[0m\u001b[1;34m']/span/label'\u001b[0m\u001b[1;33m)\u001b[0m\u001b[1;33m.\u001b[0m\u001b[0mclick\u001b[0m\u001b[1;33m(\u001b[0m\u001b[1;33m)\u001b[0m\u001b[1;33m\u001b[0m\u001b[1;33m\u001b[0m\u001b[0m\n\u001b[0m\u001b[0;32m      4\u001b[0m     \u001b[0mtime\u001b[0m\u001b[1;33m.\u001b[0m\u001b[0msleep\u001b[0m\u001b[1;33m(\u001b[0m\u001b[1;36m0.1\u001b[0m\u001b[1;33m)\u001b[0m\u001b[1;33m\u001b[0m\u001b[1;33m\u001b[0m\u001b[0m\n\u001b[0;32m      5\u001b[0m \u001b[1;33m\u001b[0m\u001b[0m\n",
      "\u001b[1;31mAttributeError\u001b[0m: type object 'By' has no attribute 'PATH'"
     ]
    }
   ],
   "source": [
    "# 차트파인더 클릭\n",
    "driver.find_element(By.XPATH,'//*[@id=\"gnb_menu\"]/ul[1]/li[1]/div/div/button/span').click()\n",
    "\n",
    "# 주간차트 클릭\n",
    "driver.find_element(By.XPATH,'//*[@id=\"d_chart_search\"]/div/h4[1]/a').click()\n",
    "time.sleep(0.1)\n",
    "\n",
    "# 나머지 멈추는 시기 결정\n",
    "stop_era = 2\n",
    "stop_year = 2\n",
    "stop_month = 6\n",
    "\n",
    "# 나머지 자동 선택\n",
    "song_id_list =[]\n",
    "len_era = find_era_length()\n",
    "for i in range(1,len_era+1) :   \n",
    "    click_era(i)\n",
    "        \n",
    "    len_year = find_year_length()\n",
    "    for j in range(1,len_year+1) :\n",
    "        click_year(j)\n",
    "                \n",
    "        len_month = find_month_length()\n",
    "        \n",
    "        if i == stop_era and j == stop_year :\n",
    "            for k in range(stop_month, len_month+1) :\n",
    "                click_month(k)\n",
    "\n",
    "                len_week = find_week_length()\n",
    "                for l in range(1, len_week+1) :\n",
    "                    click_week(l)\n",
    "                    click_genre()\n",
    "                    click_search()\n",
    "\n",
    "                    # 크롤링 및 저장\n",
    "                    crawling_and_save_to_csv(j, k, l)\n",
    "        \n",
    "        else :\n",
    "            for k in range(1, len_month+1) :\n",
    "                click_month(k)\n",
    "\n",
    "                len_week = find_week_length()\n",
    "                for l in range(1, len_week+1) :\n",
    "                    click_week(l)\n",
    "                    click_genre()\n",
    "                    click_search()\n",
    "\n",
    "                    # 크롤링 및 저장\n",
    "                    crawling_and_save_to_csv(j, k, l)\n",
    "            \n",
    "        if i == stop_era and j == stop_year : break    \n",
    "                            \n",
    "    if i == stop_era : break;\n",
    "        \n",
    "driver.quit()"
   ]
  },
  {
   "cell_type": "code",
   "execution_count": null,
   "id": "5ba1b783",
   "metadata": {},
   "outputs": [],
   "source": []
  }
 ],
 "metadata": {
  "kernelspec": {
   "display_name": "Python 3 (ipykernel)",
   "language": "python",
   "name": "python3"
  },
  "language_info": {
   "codemirror_mode": {
    "name": "ipython",
    "version": 3
   },
   "file_extension": ".py",
   "mimetype": "text/x-python",
   "name": "python",
   "nbconvert_exporter": "python",
   "pygments_lexer": "ipython3",
   "version": "3.9.13"
  }
 },
 "nbformat": 4,
 "nbformat_minor": 5
}
