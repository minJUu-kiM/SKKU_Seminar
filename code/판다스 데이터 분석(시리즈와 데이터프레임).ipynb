{
 "cells": [
  {
   "cell_type": "markdown",
   "id": "63ae9681",
   "metadata": {},
   "source": [
    "# 판다스 데이터 분석\n",
    "판다스는 Python 언어로 작성된 데이터 조작 및 분석 라이브러리입니다. 주요 데이터 구조로 데이터프레임(DataFrame)과 시리즈(Series)를 제공하며, 누락된 데이터 처리, 데이터 병합, 재색인 등 다양한 데이터 처리 기능을 지원합니다. 다양한 데이터 형식(CSV, 엑셀, SQL 데이터베이스 등)을 읽고 쓸 수 있습니다."
   ]
  },
  {
   "cell_type": "code",
   "execution_count": 2,
   "id": "35ce2e0f",
   "metadata": {},
   "outputs": [],
   "source": [
    "import pandas as pd"
   ]
  },
  {
   "cell_type": "markdown",
   "id": "c12bdf92",
   "metadata": {},
   "source": [
    "## 데이터 저장 및 불러오기\n",
    "데이터를 불러오고 저장하는 작업은 데이터 분석에서 중요한 단계입니다. 판다스는 다양한 데이터 형식(CSV, Excel, SQL, JSON 등)을 지원하며, 이러한 형식의 데이터를 불러오거나 저장하는데 사용할 수 있는 기능을 제공합니다."
   ]
  },
  {
   "cell_type": "code",
   "execution_count": null,
   "id": "7b18095a",
   "metadata": {},
   "outputs": [],
   "source": []
  },
  {
   "cell_type": "markdown",
   "id": "ec0a85d4",
   "metadata": {},
   "source": [
    "## 데이터 프레임 만들기\n",
    "데이터 프레임은 판다스의 핵심 데이터 구조로서, 2차원 레이블이 붙은 데이터를 포함합니다. 각 데이터 프레임은 다양한 데이터 유형 (예: 정수, 실수, 문자열 등)을 포함할 수 있는 하나 이상의 열로 구성됩니다."
   ]
  },
  {
   "cell_type": "code",
   "execution_count": null,
   "id": "a3c30e56",
   "metadata": {},
   "outputs": [],
   "source": []
  },
  {
   "cell_type": "markdown",
   "id": "88a626fc",
   "metadata": {},
   "source": [
    "## 데이터프레임 행, 열 접근하기\n",
    "데이터 프레임에서 특정 열을 선택하는 것은 데이터 분석에서 일반적으로 수행하는 작업입니다.\n",
    "### 단일 열 접근하기\n",
    "열 이름을 사용하여 데이터 프레임에서 단일 열을 선택할 수 있습니다."
   ]
  },
  {
   "cell_type": "code",
   "execution_count": 6,
   "id": "739086c5",
   "metadata": {},
   "outputs": [
    {
     "data": {
      "text/html": [
       "<div>\n",
       "<style scoped>\n",
       "    .dataframe tbody tr th:only-of-type {\n",
       "        vertical-align: middle;\n",
       "    }\n",
       "\n",
       "    .dataframe tbody tr th {\n",
       "        vertical-align: top;\n",
       "    }\n",
       "\n",
       "    .dataframe thead th {\n",
       "        text-align: right;\n",
       "    }\n",
       "</style>\n",
       "<table border=\"1\" class=\"dataframe\">\n",
       "  <thead>\n",
       "    <tr style=\"text-align: right;\">\n",
       "      <th></th>\n",
       "      <th>name</th>\n",
       "      <th>age</th>\n",
       "      <th>city</th>\n",
       "    </tr>\n",
       "  </thead>\n",
       "  <tbody>\n",
       "    <tr>\n",
       "      <th>0</th>\n",
       "      <td>John</td>\n",
       "      <td>28</td>\n",
       "      <td>New York</td>\n",
       "    </tr>\n",
       "    <tr>\n",
       "      <th>1</th>\n",
       "      <td>Anna</td>\n",
       "      <td>24</td>\n",
       "      <td>Paris</td>\n",
       "    </tr>\n",
       "    <tr>\n",
       "      <th>2</th>\n",
       "      <td>Peter</td>\n",
       "      <td>35</td>\n",
       "      <td>Berlin</td>\n",
       "    </tr>\n",
       "    <tr>\n",
       "      <th>3</th>\n",
       "      <td>Linda</td>\n",
       "      <td>32</td>\n",
       "      <td>London</td>\n",
       "    </tr>\n",
       "  </tbody>\n",
       "</table>\n",
       "</div>"
      ],
      "text/plain": [
       "    name  age      city\n",
       "0   John   28  New York\n",
       "1   Anna   24     Paris\n",
       "2  Peter   35    Berlin\n",
       "3  Linda   32    London"
      ]
     },
     "execution_count": 6,
     "metadata": {},
     "output_type": "execute_result"
    }
   ],
   "source": [
    "data = {\n",
    "    'name': ['John', 'Anna', 'Peter', 'Linda'],\n",
    "    'age': [28, 24, 35, 32],\n",
    "    'city': ['New York', 'Paris', 'Berlin', 'London']\n",
    "}\n",
    "\n",
    "df = pd.DataFrame(data)\n",
    "df"
   ]
  },
  {
   "cell_type": "code",
   "execution_count": 4,
   "id": "33219c26",
   "metadata": {},
   "outputs": [],
   "source": []
  },
  {
   "cell_type": "markdown",
   "id": "e9bd6247",
   "metadata": {},
   "source": [
    "### 여러 열 접근하기\n",
    "여러 열을 선택하려면, 열 이름의 리스트를 사용하면 됩니다."
   ]
  },
  {
   "cell_type": "code",
   "execution_count": null,
   "id": "d6a1f35c",
   "metadata": {},
   "outputs": [],
   "source": []
  },
  {
   "cell_type": "markdown",
   "id": "9ca50914",
   "metadata": {},
   "source": [
    "### 시리즈 통계 함수\n",
    "* count(): 시리즈에서 NA 값을 제외한 값의 수를 반환합니다."
   ]
  },
  {
   "cell_type": "code",
   "execution_count": null,
   "id": "f889a562",
   "metadata": {},
   "outputs": [],
   "source": []
  },
  {
   "cell_type": "markdown",
   "id": "9ef645b3",
   "metadata": {},
   "source": [
    "* sum(): 시리즈의 합을 반환합니다."
   ]
  },
  {
   "cell_type": "code",
   "execution_count": null,
   "id": "9faeb2ac",
   "metadata": {},
   "outputs": [],
   "source": []
  },
  {
   "cell_type": "markdown",
   "id": "dbcfa786",
   "metadata": {},
   "source": [
    "* mean(): 시리즈의 평균을 반환합니다."
   ]
  },
  {
   "cell_type": "code",
   "execution_count": null,
   "id": "bae2599f",
   "metadata": {},
   "outputs": [],
   "source": []
  },
  {
   "cell_type": "markdown",
   "id": "cc68def4",
   "metadata": {},
   "source": [
    "* median(): 시리즈의 중간값을 반환합니다."
   ]
  },
  {
   "cell_type": "code",
   "execution_count": null,
   "id": "e93ff7b8",
   "metadata": {},
   "outputs": [],
   "source": []
  },
  {
   "cell_type": "markdown",
   "id": "45dc8e04",
   "metadata": {},
   "source": [
    "* mode(): 시리즈의 최빈값을 반환합니다."
   ]
  },
  {
   "cell_type": "code",
   "execution_count": null,
   "id": "db54e8f6",
   "metadata": {},
   "outputs": [],
   "source": []
  },
  {
   "cell_type": "markdown",
   "id": "4c702d12",
   "metadata": {},
   "source": [
    "* std(): 시리즈의 표준편차를 반환합니다."
   ]
  },
  {
   "cell_type": "code",
   "execution_count": null,
   "id": "52ada034",
   "metadata": {},
   "outputs": [],
   "source": []
  },
  {
   "cell_type": "markdown",
   "id": "067bde1a",
   "metadata": {},
   "source": [
    "* min(), max(): 시리즈의 최소값, 최대값을 반환합니다."
   ]
  },
  {
   "cell_type": "code",
   "execution_count": null,
   "id": "e11ef81b",
   "metadata": {},
   "outputs": [],
   "source": []
  },
  {
   "cell_type": "markdown",
   "id": "90f4a5d3",
   "metadata": {},
   "source": [
    "* abs(): 시리즈의 각 요소의 절대값을 반환합니다."
   ]
  },
  {
   "cell_type": "code",
   "execution_count": null,
   "id": "dafadcec",
   "metadata": {},
   "outputs": [],
   "source": []
  },
  {
   "cell_type": "markdown",
   "id": "67e11f0c",
   "metadata": {},
   "source": [
    "* prod(): 시리즈의 값들의 곱을 반환합니다."
   ]
  },
  {
   "cell_type": "code",
   "execution_count": null,
   "id": "1175c4c1",
   "metadata": {},
   "outputs": [],
   "source": []
  },
  {
   "cell_type": "markdown",
   "id": "7de39418",
   "metadata": {},
   "source": [
    "* var(): 시리즈의 분산을 반환합니다."
   ]
  },
  {
   "cell_type": "code",
   "execution_count": null,
   "id": "9ef3840a",
   "metadata": {},
   "outputs": [],
   "source": []
  },
  {
   "cell_type": "markdown",
   "id": "fd2f7019",
   "metadata": {},
   "source": [
    "* describe(): 시리즈의 기술통계(평균, 표준편차, 최소값, 25%, 50%, 75% 백분위수, 최대값)를 반환합니다."
   ]
  },
  {
   "cell_type": "code",
   "execution_count": null,
   "id": "b8227b1f",
   "metadata": {},
   "outputs": [],
   "source": []
  },
  {
   "cell_type": "markdown",
   "id": "5bb939b8",
   "metadata": {},
   "source": [
    "* quantile(q): 시리즈의 분위수를 계산합니다. q는 0과 1 사이의 분위수를 지정합니다."
   ]
  },
  {
   "cell_type": "code",
   "execution_count": null,
   "id": "1d276489",
   "metadata": {},
   "outputs": [],
   "source": []
  },
  {
   "cell_type": "markdown",
   "id": "88c920d5",
   "metadata": {},
   "source": [
    "* cumsum(): 시리즈의 누적 합계를 계산합니다."
   ]
  },
  {
   "cell_type": "code",
   "execution_count": null,
   "id": "8044c7f3",
   "metadata": {},
   "outputs": [],
   "source": []
  },
  {
   "cell_type": "markdown",
   "id": "7c820012",
   "metadata": {},
   "source": [
    "* cumprod(): 시리즈의 누적 곱을 계산합니다."
   ]
  },
  {
   "cell_type": "code",
   "execution_count": null,
   "id": "d0fc54c7",
   "metadata": {},
   "outputs": [],
   "source": []
  },
  {
   "cell_type": "markdown",
   "id": "2ddd7535",
   "metadata": {},
   "source": [
    "* pct_change(): 시리즈에서 값 간의 퍼센트 변화를 계산합니다."
   ]
  },
  {
   "cell_type": "code",
   "execution_count": null,
   "id": "7bece8cb",
   "metadata": {},
   "outputs": [],
   "source": []
  },
  {
   "cell_type": "markdown",
   "id": "53e17938",
   "metadata": {},
   "source": [
    "* corr(other), cov(other): 시리즈와 다른 시리즈 간의 상관계수, 공분산을 계산합니다."
   ]
  },
  {
   "cell_type": "code",
   "execution_count": null,
   "id": "dc70a0bc",
   "metadata": {},
   "outputs": [],
   "source": []
  },
  {
   "cell_type": "markdown",
   "id": "5d8940eb",
   "metadata": {},
   "source": [
    "### 행, 열 접근하기\n",
    "특정 행, 열에 접근하는 방법에는 loc와 iloc가 있습니다.\n",
    "* loc는 레이블 기반의 데이터 선택 방법으로, 레이블의 이름을 통해 값을 선택합니다."
   ]
  },
  {
   "cell_type": "code",
   "execution_count": null,
   "id": "9d720b5a",
   "metadata": {},
   "outputs": [],
   "source": []
  },
  {
   "cell_type": "markdown",
   "id": "9b4932ef",
   "metadata": {},
   "source": [
    "* iloc는 정수 기반의 위치를 기반으로 값을 선택합니다. 즉, 행이나 열의 정수 인덱스를 통해 값을 선택합니다."
   ]
  },
  {
   "cell_type": "code",
   "execution_count": null,
   "id": "018783c6",
   "metadata": {},
   "outputs": [],
   "source": []
  },
  {
   "cell_type": "markdown",
   "id": "9c913357",
   "metadata": {},
   "source": [
    "### 특정 조건의 행 접근하기\n",
    "특정 조건을 만족하는 행을 선택하는 것은 pandas에서 자주 사용되는 테크닉입니다. 이를 수행하는 기본적인 방법은 불리언 인덱싱(Boolean Indexing)을 사용하는 것입니다. 이는 데이터프레임에 조건을 적용하여 True 또는 False로 구성된 불리언 시리즈를 생성하고, 이를 사용하여 True에 해당하는 행만 선택하는 방법입니다.\n",
    "\n",
    "* 불리언 인덱싱으로 특정 조건의 행 접근하기"
   ]
  },
  {
   "cell_type": "code",
   "execution_count": null,
   "id": "253498c6",
   "metadata": {},
   "outputs": [],
   "source": []
  },
  {
   "cell_type": "markdown",
   "id": "0f8b8284",
   "metadata": {},
   "source": [
    "* 쿼리문을 사용하여 특정 조건의 행 접근하기"
   ]
  },
  {
   "cell_type": "code",
   "execution_count": null,
   "id": "92bbdc16",
   "metadata": {},
   "outputs": [],
   "source": []
  },
  {
   "cell_type": "markdown",
   "id": "93e36e4b",
   "metadata": {},
   "source": [
    "* isin() 함수를 활용하여 특정 값을 포함하는 행 접근하기"
   ]
  },
  {
   "cell_type": "code",
   "execution_count": null,
   "id": "d0ce503f",
   "metadata": {},
   "outputs": [],
   "source": []
  },
  {
   "cell_type": "markdown",
   "id": "efbdc31c",
   "metadata": {},
   "source": [
    "* .str.contains() 함수를 활용하여 특정 값이 포함된 행 접근하기"
   ]
  },
  {
   "cell_type": "code",
   "execution_count": null,
   "id": "e23fea14",
   "metadata": {},
   "outputs": [],
   "source": []
  },
  {
   "cell_type": "markdown",
   "id": "1f9faf8d",
   "metadata": {},
   "source": [
    "### 연습문제\n",
    "```student.csv``` 파일을 불러와서 아래 문제들을 해결하세요.\n",
    "1. 0번째 열을 선택하세요."
   ]
  },
  {
   "cell_type": "code",
   "execution_count": null,
   "id": "0efa4748",
   "metadata": {},
   "outputs": [],
   "source": []
  },
  {
   "cell_type": "markdown",
   "id": "a7fd2014",
   "metadata": {},
   "source": [
    "2. 'Name'과 'Score' 열을 선택하세요."
   ]
  },
  {
   "cell_type": "code",
   "execution_count": null,
   "id": "c8a6872b",
   "metadata": {},
   "outputs": [],
   "source": []
  },
  {
   "cell_type": "markdown",
   "id": "20698da6",
   "metadata": {},
   "source": [
    "3. 'Age' 열의 평균을 계산하세요."
   ]
  },
  {
   "cell_type": "code",
   "execution_count": null,
   "id": "4f0616f1",
   "metadata": {},
   "outputs": [],
   "source": []
  },
  {
   "cell_type": "markdown",
   "id": "b0ffb50b",
   "metadata": {},
   "source": [
    "4. 'Score' 열의 최댓값과 최솟값을 찾으세요."
   ]
  },
  {
   "cell_type": "code",
   "execution_count": null,
   "id": "d7105e56",
   "metadata": {},
   "outputs": [],
   "source": []
  },
  {
   "cell_type": "markdown",
   "id": "44634719",
   "metadata": {},
   "source": [
    "5. 0번째 행을 선택하세요."
   ]
  },
  {
   "cell_type": "code",
   "execution_count": null,
   "id": "299538ac",
   "metadata": {},
   "outputs": [],
   "source": []
  },
  {
   "cell_type": "markdown",
   "id": "ea1b7d95",
   "metadata": {},
   "source": [
    "6. 마지막 행을 선택하세요."
   ]
  },
  {
   "cell_type": "code",
   "execution_count": null,
   "id": "6973a14d",
   "metadata": {},
   "outputs": [],
   "source": []
  },
  {
   "cell_type": "markdown",
   "id": "6c50174d",
   "metadata": {},
   "source": [
    "7. 짝수인 행을 선택하세요."
   ]
  },
  {
   "cell_type": "code",
   "execution_count": null,
   "id": "a4e5c948",
   "metadata": {},
   "outputs": [],
   "source": []
  },
  {
   "cell_type": "markdown",
   "id": "04669446",
   "metadata": {},
   "source": [
    "8. 2번째 행의 'Score'를 찾으세요."
   ]
  },
  {
   "cell_type": "code",
   "execution_count": null,
   "id": "11562cf2",
   "metadata": {},
   "outputs": [],
   "source": []
  },
  {
   "cell_type": "markdown",
   "id": "55e084fa",
   "metadata": {},
   "source": [
    "9. 'Gender' 열이 'Male'인 모든 행을 선택하세요."
   ]
  },
  {
   "cell_type": "code",
   "execution_count": null,
   "id": "6b707831",
   "metadata": {},
   "outputs": [],
   "source": []
  },
  {
   "cell_type": "markdown",
   "id": "4a511d18",
   "metadata": {},
   "source": [
    "10. 'Score' 열이 평균 점수보다 높은 모든 행을 선택하세요."
   ]
  },
  {
   "cell_type": "code",
   "execution_count": null,
   "id": "4d92163b",
   "metadata": {},
   "outputs": [],
   "source": []
  },
  {
   "cell_type": "markdown",
   "id": "4522b27b",
   "metadata": {},
   "source": [
    "11. 'Gender'가 'Female'이고, 'Age'가 18인 모든 행을 선택하세요."
   ]
  },
  {
   "cell_type": "code",
   "execution_count": null,
   "id": "32f51b01",
   "metadata": {},
   "outputs": [],
   "source": []
  },
  {
   "cell_type": "markdown",
   "id": "4b679b27",
   "metadata": {},
   "source": [
    "12. 'Score'가 70 이상인 학생들의 평균 'Age'를 계산하세요."
   ]
  },
  {
   "cell_type": "code",
   "execution_count": null,
   "id": "6c3a9dd4",
   "metadata": {},
   "outputs": [],
   "source": []
  },
  {
   "cell_type": "markdown",
   "id": "327d900e",
   "metadata": {},
   "source": [
    "13. 'Age'가 17 이상이고 'Score'가 80 이상인 모든 행을 선택하세요."
   ]
  },
  {
   "cell_type": "code",
   "execution_count": null,
   "id": "ff57fd9c",
   "metadata": {},
   "outputs": [],
   "source": []
  },
  {
   "cell_type": "markdown",
   "id": "683fb948",
   "metadata": {},
   "source": [
    "14. 'Score'의 값이 'Score'의 중간값과 같은 모든 행을 선택하세요."
   ]
  },
  {
   "cell_type": "code",
   "execution_count": null,
   "id": "f5a0f42b",
   "metadata": {},
   "outputs": [],
   "source": []
  },
  {
   "cell_type": "markdown",
   "id": "d68f9a26",
   "metadata": {},
   "source": [
    "15. 'Score'가 90 이상인 학생 중에서 'Age'가 가장 어린 학생의 이름을 찾으세요."
   ]
  },
  {
   "cell_type": "code",
   "execution_count": null,
   "id": "565880a9",
   "metadata": {},
   "outputs": [],
   "source": []
  }
 ],
 "metadata": {
  "kernelspec": {
   "display_name": "Python 3 (ipykernel)",
   "language": "python",
   "name": "python3"
  },
  "language_info": {
   "codemirror_mode": {
    "name": "ipython",
    "version": 3
   },
   "file_extension": ".py",
   "mimetype": "text/x-python",
   "name": "python",
   "nbconvert_exporter": "python",
   "pygments_lexer": "ipython3",
   "version": "3.11.3"
  }
 },
 "nbformat": 4,
 "nbformat_minor": 5
}
