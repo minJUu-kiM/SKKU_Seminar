{
 "cells": [
  {
   "cell_type": "code",
   "execution_count": 3,
   "metadata": {},
   "outputs": [],
   "source": [
    "# 천천히\n",
    "\n",
    "import requests # 페이지를 요청하는 기능\n",
    "from bs4 import BeautifulSoup # python 으로 HTML을 다루는 기능\n",
    "import time \n",
    "import pandas as pd\n",
    "import random\n",
    "\n",
    "\n",
    "#우회\n",
    "headers = {\n",
    "    \"User-Agent\": \"Mozilla/5.0 (Windows NT 10.0; Win64; x64) AppleWebKit/537.36 (KHTML, like Gecko) Chrome/58.0.3029.110 Safari/537.3\"\n",
    "}\n",
    "\n",
    "\n",
    "url = requests.get(\"https://search.daum.net/search?w=tot&DA=YZR&t__nil_searchbox=btn&sug=&sugo=&sq=&o=&q=%EB%A1%9C%EB%98%90\", headers= headers)"
   ]
  },
  {
   "cell_type": "code",
   "execution_count": 4,
   "metadata": {},
   "outputs": [
    {
     "data": {
      "text/plain": [
       "1077"
      ]
     },
     "execution_count": 4,
     "metadata": {},
     "output_type": "execute_result"
    }
   ],
   "source": [
    "#200: 정상(가져오는데 충돌이 없었다), 400번대: 존재하지 않는 페이지\n",
    "#500번대: 존재는 하지만 볼 수 없는 곳(로그인, 비공개 페이지)\n",
    "html = BeautifulSoup(url.text) # 이 정보를 HTML로 변환해줘\n",
    "current = int(html.find(\"span\",class_= \"f_red\").text[:-1]) #원하는 부분 찾기\n",
    "current"
   ]
  },
  {
   "cell_type": "code",
   "execution_count": 5,
   "metadata": {},
   "outputs": [
    {
     "data": {
      "text/plain": [
       "[4, 8, 17, 30, 40, 43, 34]"
      ]
     },
     "execution_count": 5,
     "metadata": {},
     "output_type": "execute_result"
    }
   ],
   "source": [
    "html = BeautifulSoup(url.text) # 이 정보를 HTML로 변환해줘\n",
    "current = int(html.find(\"span\",class_= \"f_red\").text[:-1]) #원하는 부분 찾기\n",
    "current\n",
    "\n",
    "number = html.find_all(\"span\", class_=\"ball\")\n",
    "del number[-2]\n",
    "\n",
    "box = []\n",
    "for i in number:\n",
    "  box.append(int(i.text))\n",
    "\n",
    "box"
   ]
  },
  {
   "cell_type": "code",
   "execution_count": 7,
   "metadata": {},
   "outputs": [
    {
     "name": "stdout",
     "output_type": "stream",
     "text": [
      "1회 로또 데이터 저장 완료... [10, 23, 29, 33, 37, 40, 16]\n",
      "2회 로또 데이터 저장 완료... [9, 13, 21, 25, 32, 42, 2]\n",
      "3회 로또 데이터 저장 완료... [11, 16, 19, 21, 27, 31, 30]\n",
      "4회 로또 데이터 저장 완료... [14, 27, 30, 31, 40, 42, 2]\n",
      "5회 로또 데이터 저장 완료... [16, 24, 29, 40, 41, 42, 3]\n",
      "6회 로또 데이터 저장 완료... [14, 15, 26, 27, 40, 42, 34]\n",
      "7회 로또 데이터 저장 완료... [2, 9, 16, 25, 26, 40, 42]\n",
      "8회 로또 데이터 저장 완료... [8, 19, 25, 34, 37, 39, 9]\n",
      "9회 로또 데이터 저장 완료... [2, 4, 16, 17, 36, 39, 14]\n",
      "10회 로또 데이터 저장 완료... [9, 25, 30, 33, 41, 44, 6]\n"
     ]
    }
   ],
   "source": [
    "total=[]\n",
    "\n",
    "for n in range(1,11):\n",
    "    url = requests.get(f\"https://search.daum.net/search?w=tot&rtmaxcoll=LOT&DA=LOT&q={n}%ED%9A%8C%20%EB%A1%9C%EB%98%90%EB%8B%B9%EC%B2%A8%EB%B2%88%ED%98%B8\", headers= headers)\n",
    "    html = BeautifulSoup(url.text)\n",
    "\n",
    "    number = html.find_all(\"span\", class_=\"ball\")\n",
    "    del number[-2]\n",
    "\n",
    "    box = []\n",
    "    for i in number:\n",
    "        box.append(int(i.text))\n",
    "\n",
    "    total.append(box)\n",
    "\n",
    "    print(f\"{n}회 로또 데이터 저장 완료... {box}\")\n",
    "    time.sleep(random.random()+ 1)"
   ]
  },
  {
   "cell_type": "code",
   "execution_count": 8,
   "metadata": {},
   "outputs": [
    {
     "data": {
      "text/html": [
       "<div>\n",
       "<style scoped>\n",
       "    .dataframe tbody tr th:only-of-type {\n",
       "        vertical-align: middle;\n",
       "    }\n",
       "\n",
       "    .dataframe tbody tr th {\n",
       "        vertical-align: top;\n",
       "    }\n",
       "\n",
       "    .dataframe thead th {\n",
       "        text-align: right;\n",
       "    }\n",
       "</style>\n",
       "<table border=\"1\" class=\"dataframe\">\n",
       "  <thead>\n",
       "    <tr style=\"text-align: right;\">\n",
       "      <th></th>\n",
       "      <th>1번째</th>\n",
       "      <th>2번째</th>\n",
       "      <th>3번째</th>\n",
       "      <th>4번째</th>\n",
       "      <th>5번째</th>\n",
       "      <th>6번째</th>\n",
       "      <th>보너스</th>\n",
       "    </tr>\n",
       "  </thead>\n",
       "  <tbody>\n",
       "    <tr>\n",
       "      <th>0</th>\n",
       "      <td>10</td>\n",
       "      <td>23</td>\n",
       "      <td>29</td>\n",
       "      <td>33</td>\n",
       "      <td>37</td>\n",
       "      <td>40</td>\n",
       "      <td>16</td>\n",
       "    </tr>\n",
       "    <tr>\n",
       "      <th>1</th>\n",
       "      <td>9</td>\n",
       "      <td>13</td>\n",
       "      <td>21</td>\n",
       "      <td>25</td>\n",
       "      <td>32</td>\n",
       "      <td>42</td>\n",
       "      <td>2</td>\n",
       "    </tr>\n",
       "    <tr>\n",
       "      <th>2</th>\n",
       "      <td>11</td>\n",
       "      <td>16</td>\n",
       "      <td>19</td>\n",
       "      <td>21</td>\n",
       "      <td>27</td>\n",
       "      <td>31</td>\n",
       "      <td>30</td>\n",
       "    </tr>\n",
       "    <tr>\n",
       "      <th>3</th>\n",
       "      <td>14</td>\n",
       "      <td>27</td>\n",
       "      <td>30</td>\n",
       "      <td>31</td>\n",
       "      <td>40</td>\n",
       "      <td>42</td>\n",
       "      <td>2</td>\n",
       "    </tr>\n",
       "    <tr>\n",
       "      <th>4</th>\n",
       "      <td>16</td>\n",
       "      <td>24</td>\n",
       "      <td>29</td>\n",
       "      <td>40</td>\n",
       "      <td>41</td>\n",
       "      <td>42</td>\n",
       "      <td>3</td>\n",
       "    </tr>\n",
       "    <tr>\n",
       "      <th>5</th>\n",
       "      <td>14</td>\n",
       "      <td>15</td>\n",
       "      <td>26</td>\n",
       "      <td>27</td>\n",
       "      <td>40</td>\n",
       "      <td>42</td>\n",
       "      <td>34</td>\n",
       "    </tr>\n",
       "    <tr>\n",
       "      <th>6</th>\n",
       "      <td>2</td>\n",
       "      <td>9</td>\n",
       "      <td>16</td>\n",
       "      <td>25</td>\n",
       "      <td>26</td>\n",
       "      <td>40</td>\n",
       "      <td>42</td>\n",
       "    </tr>\n",
       "    <tr>\n",
       "      <th>7</th>\n",
       "      <td>8</td>\n",
       "      <td>19</td>\n",
       "      <td>25</td>\n",
       "      <td>34</td>\n",
       "      <td>37</td>\n",
       "      <td>39</td>\n",
       "      <td>9</td>\n",
       "    </tr>\n",
       "    <tr>\n",
       "      <th>8</th>\n",
       "      <td>2</td>\n",
       "      <td>4</td>\n",
       "      <td>16</td>\n",
       "      <td>17</td>\n",
       "      <td>36</td>\n",
       "      <td>39</td>\n",
       "      <td>14</td>\n",
       "    </tr>\n",
       "    <tr>\n",
       "      <th>9</th>\n",
       "      <td>9</td>\n",
       "      <td>25</td>\n",
       "      <td>30</td>\n",
       "      <td>33</td>\n",
       "      <td>41</td>\n",
       "      <td>44</td>\n",
       "      <td>6</td>\n",
       "    </tr>\n",
       "  </tbody>\n",
       "</table>\n",
       "</div>"
      ],
      "text/plain": [
       "   1번째  2번째  3번째  4번째  5번째  6번째  보너스\n",
       "0   10   23   29   33   37   40   16\n",
       "1    9   13   21   25   32   42    2\n",
       "2   11   16   19   21   27   31   30\n",
       "3   14   27   30   31   40   42    2\n",
       "4   16   24   29   40   41   42    3\n",
       "5   14   15   26   27   40   42   34\n",
       "6    2    9   16   25   26   40   42\n",
       "7    8   19   25   34   37   39    9\n",
       "8    2    4   16   17   36   39   14\n",
       "9    9   25   30   33   41   44    6"
      ]
     },
     "execution_count": 8,
     "metadata": {},
     "output_type": "execute_result"
    }
   ],
   "source": [
    "lotto = pd.DataFrame(total, columns=['1번째','2번째','3번째','4번째','5번째','6번째','보너스'])\n",
    "lotto\n"
   ]
  },
  {
   "cell_type": "code",
   "execution_count": 9,
   "metadata": {},
   "outputs": [
    {
     "name": "stdout",
     "output_type": "stream",
     "text": [
      "1회 로또 데이터 저장 완료... ['4조', '1', '6', '2', '1', '3', '2']\n",
      "2회 로또 데이터 저장 완료... ['2조', '4', '5', '0', '5', '5', '8']\n",
      "3회 로또 데이터 저장 완료... ['4조', '5', '4', '4', '9', '5', '5']\n",
      "4회 로또 데이터 저장 완료... ['4조', '1', '2', '4', '4', '2', '0']\n",
      "5회 로또 데이터 저장 완료... ['4조', '7', '5', '4', '6', '5', '5']\n",
      "6회 로또 데이터 저장 완료... ['5조', '1', '9', '3', '2', '0', '2']\n",
      "7회 로또 데이터 저장 완료... ['2조', '5', '9', '7', '0', '9', '3']\n",
      "8회 로또 데이터 저장 완료... ['4조', '2', '3', '4', '0', '5', '8']\n",
      "9회 로또 데이터 저장 완료... ['3조', '1', '3', '3', '5', '1', '0']\n",
      "10회 로또 데이터 저장 완료... ['2조', '7', '7', '0', '1', '7', '3']\n"
     ]
    }
   ],
   "source": [
    "headers = {\n",
    "    \"User-Agent\": \"Mozilla/5.0 (Windows NT 10.0; Win64; x64) AppleWebKit/537.36 (KHTML, like Gecko) Chrome/58.0.3029.110 Safari/537.3\"\n",
    "}\n",
    "\n",
    "total=[]\n",
    "\n",
    "for n in range(1,11):\n",
    "    url = requests.get(f\"https://search.daum.net/search?w=tot&DA=JIM&rtmaxcoll=JIM&&q=%EC%97%B0%EA%B8%88%EB%B3%B5%EA%B6%8C%20720%2B%20{n}%ED%9A%8C%EC%B0%A8\", headers= headers)\n",
    "    html = BeautifulSoup(url.text)\n",
    "    number = html.find(\"tr\", class_=\"fst\").text.split()[5:]\n",
    "    total.append(number)\n",
    "    print(f\"{n}회 로또 데이터 저장 완료... {number}\")\n",
    "    time.sleep(random.random()+ 1)"
   ]
  },
  {
   "cell_type": "code",
   "execution_count": 10,
   "metadata": {},
   "outputs": [
    {
     "ename": "ValueError",
     "evalue": "No engine for filetype: 'xslx'",
     "output_type": "error",
     "traceback": [
      "\u001b[1;31m---------------------------------------------------------------------------\u001b[0m",
      "\u001b[1;31mOptionError\u001b[0m                               Traceback (most recent call last)",
      "File \u001b[1;32mc:\\Users\\min02\\AppData\\Local\\Programs\\Python\\Python311\\Lib\\site-packages\\pandas\\io\\excel\\_base.py:1111\u001b[0m, in \u001b[0;36mExcelWriter.__new__\u001b[1;34m(cls, path, engine, date_format, datetime_format, mode, storage_options, if_sheet_exists, engine_kwargs)\u001b[0m\n\u001b[0;32m   1110\u001b[0m \u001b[39mtry\u001b[39;00m:\n\u001b[1;32m-> 1111\u001b[0m     engine \u001b[39m=\u001b[39m config\u001b[39m.\u001b[39;49mget_option(\u001b[39mf\u001b[39;49m\u001b[39m\"\u001b[39;49m\u001b[39mio.excel.\u001b[39;49m\u001b[39m{\u001b[39;49;00mext\u001b[39m}\u001b[39;49;00m\u001b[39m.writer\u001b[39;49m\u001b[39m\"\u001b[39;49m, silent\u001b[39m=\u001b[39;49m\u001b[39mTrue\u001b[39;49;00m)\n\u001b[0;32m   1112\u001b[0m     \u001b[39mif\u001b[39;00m engine \u001b[39m==\u001b[39m \u001b[39m\"\u001b[39m\u001b[39mauto\u001b[39m\u001b[39m\"\u001b[39m:\n",
      "File \u001b[1;32mc:\\Users\\min02\\AppData\\Local\\Programs\\Python\\Python311\\Lib\\site-packages\\pandas\\_config\\config.py:261\u001b[0m, in \u001b[0;36mCallableDynamicDoc.__call__\u001b[1;34m(self, *args, **kwds)\u001b[0m\n\u001b[0;32m    260\u001b[0m \u001b[39mdef\u001b[39;00m \u001b[39m__call__\u001b[39m(\u001b[39mself\u001b[39m, \u001b[39m*\u001b[39margs, \u001b[39m*\u001b[39m\u001b[39m*\u001b[39mkwds) \u001b[39m-\u001b[39m\u001b[39m>\u001b[39m T:\n\u001b[1;32m--> 261\u001b[0m     \u001b[39mreturn\u001b[39;00m \u001b[39mself\u001b[39;49m\u001b[39m.\u001b[39;49m\u001b[39m__func__\u001b[39;49m(\u001b[39m*\u001b[39;49margs, \u001b[39m*\u001b[39;49m\u001b[39m*\u001b[39;49mkwds)\n",
      "File \u001b[1;32mc:\\Users\\min02\\AppData\\Local\\Programs\\Python\\Python311\\Lib\\site-packages\\pandas\\_config\\config.py:135\u001b[0m, in \u001b[0;36m_get_option\u001b[1;34m(pat, silent)\u001b[0m\n\u001b[0;32m    134\u001b[0m \u001b[39mdef\u001b[39;00m \u001b[39m_get_option\u001b[39m(pat: \u001b[39mstr\u001b[39m, silent: \u001b[39mbool\u001b[39m \u001b[39m=\u001b[39m \u001b[39mFalse\u001b[39;00m) \u001b[39m-\u001b[39m\u001b[39m>\u001b[39m Any:\n\u001b[1;32m--> 135\u001b[0m     key \u001b[39m=\u001b[39m _get_single_key(pat, silent)\n\u001b[0;32m    137\u001b[0m     \u001b[39m# walk the nested dict\u001b[39;00m\n",
      "File \u001b[1;32mc:\\Users\\min02\\AppData\\Local\\Programs\\Python\\Python311\\Lib\\site-packages\\pandas\\_config\\config.py:121\u001b[0m, in \u001b[0;36m_get_single_key\u001b[1;34m(pat, silent)\u001b[0m\n\u001b[0;32m    120\u001b[0m         _warn_if_deprecated(pat)\n\u001b[1;32m--> 121\u001b[0m     \u001b[39mraise\u001b[39;00m OptionError(\u001b[39mf\u001b[39m\u001b[39m\"\u001b[39m\u001b[39mNo such keys(s): \u001b[39m\u001b[39m{\u001b[39;00m\u001b[39mrepr\u001b[39m(pat)\u001b[39m}\u001b[39;00m\u001b[39m\"\u001b[39m)\n\u001b[0;32m    122\u001b[0m \u001b[39mif\u001b[39;00m \u001b[39mlen\u001b[39m(keys) \u001b[39m>\u001b[39m \u001b[39m1\u001b[39m:\n",
      "\u001b[1;31mOptionError\u001b[0m: No such keys(s): 'io.excel.xslx.writer'",
      "\nThe above exception was the direct cause of the following exception:\n",
      "\u001b[1;31mValueError\u001b[0m                                Traceback (most recent call last)",
      "Cell \u001b[1;32mIn[10], line 2\u001b[0m\n\u001b[0;32m      1\u001b[0m pension \u001b[39m=\u001b[39m pd\u001b[39m.\u001b[39mDataFrame(total,columns\u001b[39m=\u001b[39m[\u001b[39m'\u001b[39m\u001b[39m조\u001b[39m\u001b[39m'\u001b[39m,\u001b[39m'\u001b[39m\u001b[39m1번째\u001b[39m\u001b[39m'\u001b[39m,\u001b[39m'\u001b[39m\u001b[39m2번째\u001b[39m\u001b[39m'\u001b[39m,\u001b[39m'\u001b[39m\u001b[39m3번째\u001b[39m\u001b[39m'\u001b[39m,\u001b[39m'\u001b[39m\u001b[39m4번째\u001b[39m\u001b[39m'\u001b[39m,\u001b[39m'\u001b[39m\u001b[39m5번째\u001b[39m\u001b[39m'\u001b[39m,\u001b[39m'\u001b[39m\u001b[39m6번째\u001b[39m\u001b[39m'\u001b[39m])\n\u001b[1;32m----> 2\u001b[0m pension\u001b[39m.\u001b[39;49mto_excel(\u001b[39m\"\u001b[39;49m\u001b[39mpension.xslx\u001b[39;49m\u001b[39m\"\u001b[39;49m)\n",
      "File \u001b[1;32mc:\\Users\\min02\\AppData\\Local\\Programs\\Python\\Python311\\Lib\\site-packages\\pandas\\core\\generic.py:2252\u001b[0m, in \u001b[0;36mNDFrame.to_excel\u001b[1;34m(self, excel_writer, sheet_name, na_rep, float_format, columns, header, index, index_label, startrow, startcol, engine, merge_cells, inf_rep, freeze_panes, storage_options)\u001b[0m\n\u001b[0;32m   2239\u001b[0m \u001b[39mfrom\u001b[39;00m \u001b[39mpandas\u001b[39;00m\u001b[39m.\u001b[39;00m\u001b[39mio\u001b[39;00m\u001b[39m.\u001b[39;00m\u001b[39mformats\u001b[39;00m\u001b[39m.\u001b[39;00m\u001b[39mexcel\u001b[39;00m \u001b[39mimport\u001b[39;00m ExcelFormatter\n\u001b[0;32m   2241\u001b[0m formatter \u001b[39m=\u001b[39m ExcelFormatter(\n\u001b[0;32m   2242\u001b[0m     df,\n\u001b[0;32m   2243\u001b[0m     na_rep\u001b[39m=\u001b[39mna_rep,\n\u001b[1;32m   (...)\u001b[0m\n\u001b[0;32m   2250\u001b[0m     inf_rep\u001b[39m=\u001b[39minf_rep,\n\u001b[0;32m   2251\u001b[0m )\n\u001b[1;32m-> 2252\u001b[0m formatter\u001b[39m.\u001b[39;49mwrite(\n\u001b[0;32m   2253\u001b[0m     excel_writer,\n\u001b[0;32m   2254\u001b[0m     sheet_name\u001b[39m=\u001b[39;49msheet_name,\n\u001b[0;32m   2255\u001b[0m     startrow\u001b[39m=\u001b[39;49mstartrow,\n\u001b[0;32m   2256\u001b[0m     startcol\u001b[39m=\u001b[39;49mstartcol,\n\u001b[0;32m   2257\u001b[0m     freeze_panes\u001b[39m=\u001b[39;49mfreeze_panes,\n\u001b[0;32m   2258\u001b[0m     engine\u001b[39m=\u001b[39;49mengine,\n\u001b[0;32m   2259\u001b[0m     storage_options\u001b[39m=\u001b[39;49mstorage_options,\n\u001b[0;32m   2260\u001b[0m )\n",
      "File \u001b[1;32mc:\\Users\\min02\\AppData\\Local\\Programs\\Python\\Python311\\Lib\\site-packages\\pandas\\io\\formats\\excel.py:934\u001b[0m, in \u001b[0;36mExcelFormatter.write\u001b[1;34m(self, writer, sheet_name, startrow, startcol, freeze_panes, engine, storage_options)\u001b[0m\n\u001b[0;32m    930\u001b[0m     need_save \u001b[39m=\u001b[39m \u001b[39mFalse\u001b[39;00m\n\u001b[0;32m    931\u001b[0m \u001b[39melse\u001b[39;00m:\n\u001b[0;32m    932\u001b[0m     \u001b[39m# error: Cannot instantiate abstract class 'ExcelWriter' with abstract\u001b[39;00m\n\u001b[0;32m    933\u001b[0m     \u001b[39m# attributes 'engine', 'save', 'supported_extensions' and 'write_cells'\u001b[39;00m\n\u001b[1;32m--> 934\u001b[0m     writer \u001b[39m=\u001b[39m ExcelWriter(  \u001b[39m# type: ignore[abstract]\u001b[39;49;00m\n\u001b[0;32m    935\u001b[0m         writer, engine\u001b[39m=\u001b[39;49mengine, storage_options\u001b[39m=\u001b[39;49mstorage_options\n\u001b[0;32m    936\u001b[0m     )\n\u001b[0;32m    937\u001b[0m     need_save \u001b[39m=\u001b[39m \u001b[39mTrue\u001b[39;00m\n\u001b[0;32m    939\u001b[0m \u001b[39mtry\u001b[39;00m:\n",
      "File \u001b[1;32mc:\\Users\\min02\\AppData\\Local\\Programs\\Python\\Python311\\Lib\\site-packages\\pandas\\io\\excel\\_base.py:1115\u001b[0m, in \u001b[0;36mExcelWriter.__new__\u001b[1;34m(cls, path, engine, date_format, datetime_format, mode, storage_options, if_sheet_exists, engine_kwargs)\u001b[0m\n\u001b[0;32m   1113\u001b[0m             engine \u001b[39m=\u001b[39m get_default_engine(ext, mode\u001b[39m=\u001b[39m\u001b[39m\"\u001b[39m\u001b[39mwriter\u001b[39m\u001b[39m\"\u001b[39m)\n\u001b[0;32m   1114\u001b[0m     \u001b[39mexcept\u001b[39;00m \u001b[39mKeyError\u001b[39;00m \u001b[39mas\u001b[39;00m err:\n\u001b[1;32m-> 1115\u001b[0m         \u001b[39mraise\u001b[39;00m \u001b[39mValueError\u001b[39;00m(\u001b[39mf\u001b[39m\u001b[39m\"\u001b[39m\u001b[39mNo engine for filetype: \u001b[39m\u001b[39m'\u001b[39m\u001b[39m{\u001b[39;00mext\u001b[39m}\u001b[39;00m\u001b[39m'\u001b[39m\u001b[39m\"\u001b[39m) \u001b[39mfrom\u001b[39;00m \u001b[39merr\u001b[39;00m\n\u001b[0;32m   1117\u001b[0m \u001b[39m# for mypy\u001b[39;00m\n\u001b[0;32m   1118\u001b[0m \u001b[39massert\u001b[39;00m engine \u001b[39mis\u001b[39;00m \u001b[39mnot\u001b[39;00m \u001b[39mNone\u001b[39;00m\n",
      "\u001b[1;31mValueError\u001b[0m: No engine for filetype: 'xslx'"
     ]
    }
   ],
   "source": [
    "pension = pd.DataFrame(total,columns=['조','1번째','2번째','3번째','4번째','5번째','6번째'])\n",
    "pension.to_excel(\"pension.xslx\")"
   ]
  },
  {
   "cell_type": "code",
   "execution_count": null,
   "metadata": {},
   "outputs": [
    {
     "data": {
      "text/plain": [
       "100"
      ]
     },
     "execution_count": 43,
     "metadata": {},
     "output_type": "execute_result"
    }
   ],
   "source": [
    "url = requests.get(\"https://search.daum.net/search?w=tot&DA=JIM&rtmaxcoll=JIM&&q=%EC%97%B0%EA%B8%88%EB%B3%B5%EA%B6%8C%20720%2B%20100%ED%9A%8C%EC%B0%A8\", headers= headers)\n",
    "\n",
    "html = BeautifulSoup(url.text) # 이 정보를 HTML로 변환해줘\n",
    "current = int(html.find(\"span\",class_= \"f_red\").text[1:-1]) #원하는 부분 찾기\n",
    "current"
   ]
  },
  {
   "cell_type": "code",
   "execution_count": null,
   "metadata": {},
   "outputs": [
    {
     "name": "stdout",
     "output_type": "stream",
     "text": [
      "^C\n",
      "Note: you may need to restart the kernel to use updated packages.\n"
     ]
    }
   ],
   "source": [
    "%pip uninstall pandas\n"
   ]
  },
  {
   "cell_type": "code",
   "execution_count": null,
   "metadata": {},
   "outputs": [],
   "source": [
    "url = requests.get(\"https://finance.naver.com/sise/sise_market_sum.naver?sosok=0&page=1\", headers = headers)\n"
   ]
  },
  {
   "cell_type": "code",
   "execution_count": null,
   "metadata": {},
   "outputs": [],
   "source": [
    "import pandas as pd\n",
    "def make_table(url):\n",
    "  html = BeautifulSoup(url.text)\n",
    "  table = html.find(\"table\", class_='type_2')\n",
    "\n",
    "  table=pd.read_html(str(table))[0]\n",
    "\n",
    "  del table['N']\n",
    "  del table['토론실']\n",
    "\n",
    "  table = table[table['종목명'].notnull()]\n",
    "  table\n",
    "\n",
    "  return table"
   ]
  },
  {
   "cell_type": "code",
   "execution_count": null,
   "metadata": {},
   "outputs": [
    {
     "data": {
      "text/plain": [
       "42"
      ]
     },
     "execution_count": 16,
     "metadata": {},
     "output_type": "execute_result"
    }
   ],
   "source": [
    "kospi_page = int(html.find(\"td\", class_ = 'pgRR').find(\"a\")['href'][-2:])\n",
    "kospi_page"
   ]
  },
  {
   "cell_type": "code",
   "execution_count": null,
   "metadata": {},
   "outputs": [
    {
     "name": "stdout",
     "output_type": "stream",
     "text": [
      "코스피 1페이지 완료\n",
      "코스피 2페이지 완료\n",
      "코스피 3페이지 완료\n",
      "코스피 4페이지 완료\n",
      "코스피 5페이지 완료\n",
      "코스피 6페이지 완료\n",
      "코스피 7페이지 완료\n",
      "코스피 8페이지 완료\n",
      "코스피 9페이지 완료\n",
      "코스피 10페이지 완료\n",
      "코스피 11페이지 완료\n",
      "코스피 12페이지 완료\n",
      "코스피 13페이지 완료\n",
      "코스피 14페이지 완료\n",
      "코스피 15페이지 완료\n",
      "코스피 16페이지 완료\n",
      "코스피 17페이지 완료\n",
      "코스피 18페이지 완료\n",
      "코스피 19페이지 완료\n",
      "코스피 20페이지 완료\n",
      "코스피 21페이지 완료\n",
      "코스피 22페이지 완료\n",
      "코스피 23페이지 완료\n",
      "코스피 24페이지 완료\n",
      "코스피 25페이지 완료\n",
      "코스피 26페이지 완료\n",
      "코스피 27페이지 완료\n",
      "코스피 28페이지 완료\n",
      "코스피 29페이지 완료\n",
      "코스피 30페이지 완료\n",
      "코스피 31페이지 완료\n",
      "코스피 32페이지 완료\n",
      "코스피 33페이지 완료\n",
      "코스피 34페이지 완료\n",
      "코스피 35페이지 완료\n",
      "코스피 36페이지 완료\n",
      "코스피 37페이지 완료\n",
      "코스피 38페이지 완료\n",
      "코스피 39페이지 완료\n",
      "코스피 40페이지 완료\n",
      "코스피 41페이지 완료\n",
      "코스피 42페이지 완료\n"
     ]
    },
    {
     "ename": "ValueError",
     "evalue": "No engine for filetype: ''",
     "output_type": "error",
     "traceback": [
      "\u001b[1;31m---------------------------------------------------------------------------\u001b[0m",
      "\u001b[1;31mOptionError\u001b[0m                               Traceback (most recent call last)",
      "File \u001b[1;32mc:\\Users\\min02\\AppData\\Local\\Programs\\Python\\Python311\\Lib\\site-packages\\pandas\\io\\excel\\_base.py:1111\u001b[0m, in \u001b[0;36mExcelWriter.__new__\u001b[1;34m(cls, path, engine, date_format, datetime_format, mode, storage_options, if_sheet_exists, engine_kwargs)\u001b[0m\n\u001b[0;32m   1110\u001b[0m \u001b[39mtry\u001b[39;00m:\n\u001b[1;32m-> 1111\u001b[0m     engine \u001b[39m=\u001b[39m config\u001b[39m.\u001b[39;49mget_option(\u001b[39mf\u001b[39;49m\u001b[39m\"\u001b[39;49m\u001b[39mio.excel.\u001b[39;49m\u001b[39m{\u001b[39;49;00mext\u001b[39m}\u001b[39;49;00m\u001b[39m.writer\u001b[39;49m\u001b[39m\"\u001b[39;49m, silent\u001b[39m=\u001b[39;49m\u001b[39mTrue\u001b[39;49;00m)\n\u001b[0;32m   1112\u001b[0m     \u001b[39mif\u001b[39;00m engine \u001b[39m==\u001b[39m \u001b[39m\"\u001b[39m\u001b[39mauto\u001b[39m\u001b[39m\"\u001b[39m:\n",
      "File \u001b[1;32mc:\\Users\\min02\\AppData\\Local\\Programs\\Python\\Python311\\Lib\\site-packages\\pandas\\_config\\config.py:261\u001b[0m, in \u001b[0;36mCallableDynamicDoc.__call__\u001b[1;34m(self, *args, **kwds)\u001b[0m\n\u001b[0;32m    260\u001b[0m \u001b[39mdef\u001b[39;00m \u001b[39m__call__\u001b[39m(\u001b[39mself\u001b[39m, \u001b[39m*\u001b[39margs, \u001b[39m*\u001b[39m\u001b[39m*\u001b[39mkwds) \u001b[39m-\u001b[39m\u001b[39m>\u001b[39m T:\n\u001b[1;32m--> 261\u001b[0m     \u001b[39mreturn\u001b[39;00m \u001b[39mself\u001b[39;49m\u001b[39m.\u001b[39;49m\u001b[39m__func__\u001b[39;49m(\u001b[39m*\u001b[39;49margs, \u001b[39m*\u001b[39;49m\u001b[39m*\u001b[39;49mkwds)\n",
      "File \u001b[1;32mc:\\Users\\min02\\AppData\\Local\\Programs\\Python\\Python311\\Lib\\site-packages\\pandas\\_config\\config.py:135\u001b[0m, in \u001b[0;36m_get_option\u001b[1;34m(pat, silent)\u001b[0m\n\u001b[0;32m    134\u001b[0m \u001b[39mdef\u001b[39;00m \u001b[39m_get_option\u001b[39m(pat: \u001b[39mstr\u001b[39m, silent: \u001b[39mbool\u001b[39m \u001b[39m=\u001b[39m \u001b[39mFalse\u001b[39;00m) \u001b[39m-\u001b[39m\u001b[39m>\u001b[39m Any:\n\u001b[1;32m--> 135\u001b[0m     key \u001b[39m=\u001b[39m _get_single_key(pat, silent)\n\u001b[0;32m    137\u001b[0m     \u001b[39m# walk the nested dict\u001b[39;00m\n",
      "File \u001b[1;32mc:\\Users\\min02\\AppData\\Local\\Programs\\Python\\Python311\\Lib\\site-packages\\pandas\\_config\\config.py:121\u001b[0m, in \u001b[0;36m_get_single_key\u001b[1;34m(pat, silent)\u001b[0m\n\u001b[0;32m    120\u001b[0m         _warn_if_deprecated(pat)\n\u001b[1;32m--> 121\u001b[0m     \u001b[39mraise\u001b[39;00m OptionError(\u001b[39mf\u001b[39m\u001b[39m\"\u001b[39m\u001b[39mNo such keys(s): \u001b[39m\u001b[39m{\u001b[39;00m\u001b[39mrepr\u001b[39m(pat)\u001b[39m}\u001b[39;00m\u001b[39m\"\u001b[39m)\n\u001b[0;32m    122\u001b[0m \u001b[39mif\u001b[39;00m \u001b[39mlen\u001b[39m(keys) \u001b[39m>\u001b[39m \u001b[39m1\u001b[39m:\n",
      "\u001b[1;31mOptionError\u001b[0m: No such keys(s): 'io.excel..writer'",
      "\nThe above exception was the direct cause of the following exception:\n",
      "\u001b[1;31mValueError\u001b[0m                                Traceback (most recent call last)",
      "Cell \u001b[1;32mIn[17], line 11\u001b[0m\n\u001b[0;32m      8\u001b[0m     time\u001b[39m.\u001b[39msleep(random\u001b[39m.\u001b[39mrandom()\u001b[39m+\u001b[39m\u001b[39m1\u001b[39m)\n\u001b[0;32m     10\u001b[0m kospi \u001b[39m=\u001b[39m pd\u001b[39m.\u001b[39mconcat(kospi_total, ignore_index\u001b[39m=\u001b[39m\u001b[39mTrue\u001b[39;00m)\n\u001b[1;32m---> 11\u001b[0m kospi\u001b[39m.\u001b[39;49mto_excel(\u001b[39m\"\u001b[39;49m\u001b[39mkospi_xlsx\u001b[39;49m\u001b[39m\"\u001b[39;49m)\n",
      "File \u001b[1;32mc:\\Users\\min02\\AppData\\Local\\Programs\\Python\\Python311\\Lib\\site-packages\\pandas\\core\\generic.py:2252\u001b[0m, in \u001b[0;36mNDFrame.to_excel\u001b[1;34m(self, excel_writer, sheet_name, na_rep, float_format, columns, header, index, index_label, startrow, startcol, engine, merge_cells, inf_rep, freeze_panes, storage_options)\u001b[0m\n\u001b[0;32m   2239\u001b[0m \u001b[39mfrom\u001b[39;00m \u001b[39mpandas\u001b[39;00m\u001b[39m.\u001b[39;00m\u001b[39mio\u001b[39;00m\u001b[39m.\u001b[39;00m\u001b[39mformats\u001b[39;00m\u001b[39m.\u001b[39;00m\u001b[39mexcel\u001b[39;00m \u001b[39mimport\u001b[39;00m ExcelFormatter\n\u001b[0;32m   2241\u001b[0m formatter \u001b[39m=\u001b[39m ExcelFormatter(\n\u001b[0;32m   2242\u001b[0m     df,\n\u001b[0;32m   2243\u001b[0m     na_rep\u001b[39m=\u001b[39mna_rep,\n\u001b[1;32m   (...)\u001b[0m\n\u001b[0;32m   2250\u001b[0m     inf_rep\u001b[39m=\u001b[39minf_rep,\n\u001b[0;32m   2251\u001b[0m )\n\u001b[1;32m-> 2252\u001b[0m formatter\u001b[39m.\u001b[39;49mwrite(\n\u001b[0;32m   2253\u001b[0m     excel_writer,\n\u001b[0;32m   2254\u001b[0m     sheet_name\u001b[39m=\u001b[39;49msheet_name,\n\u001b[0;32m   2255\u001b[0m     startrow\u001b[39m=\u001b[39;49mstartrow,\n\u001b[0;32m   2256\u001b[0m     startcol\u001b[39m=\u001b[39;49mstartcol,\n\u001b[0;32m   2257\u001b[0m     freeze_panes\u001b[39m=\u001b[39;49mfreeze_panes,\n\u001b[0;32m   2258\u001b[0m     engine\u001b[39m=\u001b[39;49mengine,\n\u001b[0;32m   2259\u001b[0m     storage_options\u001b[39m=\u001b[39;49mstorage_options,\n\u001b[0;32m   2260\u001b[0m )\n",
      "File \u001b[1;32mc:\\Users\\min02\\AppData\\Local\\Programs\\Python\\Python311\\Lib\\site-packages\\pandas\\io\\formats\\excel.py:934\u001b[0m, in \u001b[0;36mExcelFormatter.write\u001b[1;34m(self, writer, sheet_name, startrow, startcol, freeze_panes, engine, storage_options)\u001b[0m\n\u001b[0;32m    930\u001b[0m     need_save \u001b[39m=\u001b[39m \u001b[39mFalse\u001b[39;00m\n\u001b[0;32m    931\u001b[0m \u001b[39melse\u001b[39;00m:\n\u001b[0;32m    932\u001b[0m     \u001b[39m# error: Cannot instantiate abstract class 'ExcelWriter' with abstract\u001b[39;00m\n\u001b[0;32m    933\u001b[0m     \u001b[39m# attributes 'engine', 'save', 'supported_extensions' and 'write_cells'\u001b[39;00m\n\u001b[1;32m--> 934\u001b[0m     writer \u001b[39m=\u001b[39m ExcelWriter(  \u001b[39m# type: ignore[abstract]\u001b[39;49;00m\n\u001b[0;32m    935\u001b[0m         writer, engine\u001b[39m=\u001b[39;49mengine, storage_options\u001b[39m=\u001b[39;49mstorage_options\n\u001b[0;32m    936\u001b[0m     )\n\u001b[0;32m    937\u001b[0m     need_save \u001b[39m=\u001b[39m \u001b[39mTrue\u001b[39;00m\n\u001b[0;32m    939\u001b[0m \u001b[39mtry\u001b[39;00m:\n",
      "File \u001b[1;32mc:\\Users\\min02\\AppData\\Local\\Programs\\Python\\Python311\\Lib\\site-packages\\pandas\\io\\excel\\_base.py:1115\u001b[0m, in \u001b[0;36mExcelWriter.__new__\u001b[1;34m(cls, path, engine, date_format, datetime_format, mode, storage_options, if_sheet_exists, engine_kwargs)\u001b[0m\n\u001b[0;32m   1113\u001b[0m             engine \u001b[39m=\u001b[39m get_default_engine(ext, mode\u001b[39m=\u001b[39m\u001b[39m\"\u001b[39m\u001b[39mwriter\u001b[39m\u001b[39m\"\u001b[39m)\n\u001b[0;32m   1114\u001b[0m     \u001b[39mexcept\u001b[39;00m \u001b[39mKeyError\u001b[39;00m \u001b[39mas\u001b[39;00m err:\n\u001b[1;32m-> 1115\u001b[0m         \u001b[39mraise\u001b[39;00m \u001b[39mValueError\u001b[39;00m(\u001b[39mf\u001b[39m\u001b[39m\"\u001b[39m\u001b[39mNo engine for filetype: \u001b[39m\u001b[39m'\u001b[39m\u001b[39m{\u001b[39;00mext\u001b[39m}\u001b[39;00m\u001b[39m'\u001b[39m\u001b[39m\"\u001b[39m) \u001b[39mfrom\u001b[39;00m \u001b[39merr\u001b[39;00m\n\u001b[0;32m   1117\u001b[0m \u001b[39m# for mypy\u001b[39;00m\n\u001b[0;32m   1118\u001b[0m \u001b[39massert\u001b[39;00m engine \u001b[39mis\u001b[39;00m \u001b[39mnot\u001b[39;00m \u001b[39mNone\u001b[39;00m\n",
      "\u001b[1;31mValueError\u001b[0m: No engine for filetype: ''"
     ]
    }
   ],
   "source": [
    "kospi_total=[]\n",
    "\n",
    "for n in range(1, kospi_page + 1):\n",
    "    url = requests.get(f\"https://finance.naver.com/sise/sise_market_sum.naver?sosok=0&page={n}\", headers = headers)\n",
    "    table = make_table(url)\n",
    "    kospi_total.append(table) \n",
    "    print(f\"코스피 {n}페이지 완료\")\n",
    "    time.sleep(random.random()+1)\n",
    "\n",
    "kospi = pd.concat(kospi_total, ignore_index=True)\n",
    "kospi.to_excel(\"kospi_xlsx\")"
   ]
  },
  {
   "cell_type": "code",
   "execution_count": null,
   "metadata": {},
   "outputs": [
    {
     "name": "stdout",
     "output_type": "stream",
     "text": [
      "Collecting tqdm\n",
      "  Downloading tqdm-4.65.0-py3-none-any.whl (77 kB)\n",
      "                                              0.0/77.1 kB ? eta -:--:--\n",
      "     ---------------------------------------- 77.1/77.1 kB 4.2 MB/s eta 0:00:00\n",
      "Requirement already satisfied: colorama in c:\\users\\min02\\appdata\\roaming\\python\\python311\\site-packages (from tqdm) (0.4.6)\n",
      "Installing collected packages: tqdm\n",
      "Successfully installed tqdm-4.65.0\n",
      "Note: you may need to restart the kernel to use updated packages.\n"
     ]
    },
    {
     "name": "stderr",
     "output_type": "stream",
     "text": [
      "\n",
      "[notice] A new release of pip is available: 23.1.2 -> 23.2.1\n",
      "[notice] To update, run: python.exe -m pip install --upgrade pip\n"
     ]
    }
   ],
   "source": [
    "%pip install tqdm"
   ]
  },
  {
   "cell_type": "code",
   "execution_count": null,
   "metadata": {},
   "outputs": [
    {
     "name": "stderr",
     "output_type": "stream",
     "text": [
      "100%|██████████| 42/42 [01:08<00:00,  1.62s/it]\n",
      "100%|██████████| 42/42 [01:13<00:00,  1.76s/it]\n"
     ]
    }
   ],
   "source": [
    "\n",
    "\n",
    "from tqdm import tqdm\n",
    "\n",
    "url = requests.get(\"https://finance.naver.com/sise/sise_market_sum.naver?sosok=0&page=1\", headers = headers)\n",
    "html = BeautifulSoup(url.text)\n",
    "kospi_page = int(html.find(\"td\", class_ = 'pgRR').find('a')['href'][-2:])\n",
    "\n",
    "kospi_total=[]\n",
    "for n in tqdm(range(1,kospi_page+1)):\n",
    "    url = requests.get('https://finance.naver.com/sise/sise_market_sum.naver?sosok=0&page=1',headers= headers)\n",
    "    table = make_table(url)\n",
    "    kospi_total.append(table)\n",
    "    time.sleep(random.random()+1)\n",
    "    \n",
    "url = requests.get(\"https://finance.naver.com/sise/sise_market_sum.naver?sosok=1&page=1\", headers = headers)\n",
    "kosdak_page = int(html.find(\"td\", class_ = 'pgRR').find('a')['href'][-2:])\n",
    "\n",
    "kosdak_total=[]\n",
    "for n in tqdm(range(1,kospi_page+1)):\n",
    "    url = requests.get('https://finance.naver.com/sise/sise_market_sum.naver?sosok=1&page=1',headers= headers)\n",
    "    table = make_table(url)\n",
    "    kosdak_total.append(table)\n",
    "    time.sleep(random.random()+1)\n",
    "    "
   ]
  },
  {
   "cell_type": "code",
   "execution_count": null,
   "metadata": {},
   "outputs": [
    {
     "data": {
      "text/plain": [
       "(42, 42)"
      ]
     },
     "execution_count": 21,
     "metadata": {},
     "output_type": "execute_result"
    }
   ],
   "source": [
    "len(kospi_total), len(kosdak_total)"
   ]
  },
  {
   "cell_type": "code",
   "execution_count": null,
   "metadata": {},
   "outputs": [
    {
     "data": {
      "text/html": [
       "<div>\n",
       "<style scoped>\n",
       "    .dataframe tbody tr th:only-of-type {\n",
       "        vertical-align: middle;\n",
       "    }\n",
       "\n",
       "    .dataframe tbody tr th {\n",
       "        vertical-align: top;\n",
       "    }\n",
       "\n",
       "    .dataframe thead th {\n",
       "        text-align: right;\n",
       "    }\n",
       "</style>\n",
       "<table border=\"1\" class=\"dataframe\">\n",
       "  <thead>\n",
       "    <tr style=\"text-align: right;\">\n",
       "      <th></th>\n",
       "      <th>종목명</th>\n",
       "      <th>현재가</th>\n",
       "      <th>전일비</th>\n",
       "      <th>등락률</th>\n",
       "      <th>액면가</th>\n",
       "      <th>시가총액</th>\n",
       "      <th>상장주식수</th>\n",
       "      <th>외국인비율</th>\n",
       "      <th>거래량</th>\n",
       "      <th>PER</th>\n",
       "      <th>ROE</th>\n",
       "      <th>소속</th>\n",
       "    </tr>\n",
       "  </thead>\n",
       "  <tbody>\n",
       "    <tr>\n",
       "      <th>0</th>\n",
       "      <td>삼성전자</td>\n",
       "      <td>70600.0</td>\n",
       "      <td>1100.0</td>\n",
       "      <td>-1.53%</td>\n",
       "      <td>100.0</td>\n",
       "      <td>4214666.0</td>\n",
       "      <td>5969783.0</td>\n",
       "      <td>53.02</td>\n",
       "      <td>18220323.0</td>\n",
       "      <td>10.66</td>\n",
       "      <td>17.07</td>\n",
       "      <td>코스피</td>\n",
       "    </tr>\n",
       "    <tr>\n",
       "      <th>1</th>\n",
       "      <td>LG에너지솔루션</td>\n",
       "      <td>543000.0</td>\n",
       "      <td>3000.0</td>\n",
       "      <td>+0.56%</td>\n",
       "      <td>500.0</td>\n",
       "      <td>1270620.0</td>\n",
       "      <td>234000.0</td>\n",
       "      <td>5.17</td>\n",
       "      <td>523737.0</td>\n",
       "      <td>122.02</td>\n",
       "      <td>5.75</td>\n",
       "      <td>코스피</td>\n",
       "    </tr>\n",
       "    <tr>\n",
       "      <th>2</th>\n",
       "      <td>SK하이닉스</td>\n",
       "      <td>127700.0</td>\n",
       "      <td>3700.0</td>\n",
       "      <td>+2.98%</td>\n",
       "      <td>5000.0</td>\n",
       "      <td>929659.0</td>\n",
       "      <td>728002.0</td>\n",
       "      <td>52.14</td>\n",
       "      <td>8132775.0</td>\n",
       "      <td>-39.91</td>\n",
       "      <td>3.56</td>\n",
       "      <td>코스피</td>\n",
       "    </tr>\n",
       "    <tr>\n",
       "      <th>3</th>\n",
       "      <td>삼성바이오로직스</td>\n",
       "      <td>782000.0</td>\n",
       "      <td>9000.0</td>\n",
       "      <td>-1.14%</td>\n",
       "      <td>2500.0</td>\n",
       "      <td>556581.0</td>\n",
       "      <td>71174.0</td>\n",
       "      <td>10.53</td>\n",
       "      <td>86441.0</td>\n",
       "      <td>69.99</td>\n",
       "      <td>11.42</td>\n",
       "      <td>코스피</td>\n",
       "    </tr>\n",
       "    <tr>\n",
       "      <th>4</th>\n",
       "      <td>POSCO홀딩스</td>\n",
       "      <td>616000.0</td>\n",
       "      <td>22000.0</td>\n",
       "      <td>+3.70%</td>\n",
       "      <td>5000.0</td>\n",
       "      <td>520959.0</td>\n",
       "      <td>84571.0</td>\n",
       "      <td>30.43</td>\n",
       "      <td>3931612.0</td>\n",
       "      <td>24.42</td>\n",
       "      <td>6.11</td>\n",
       "      <td>코스피</td>\n",
       "    </tr>\n",
       "    <tr>\n",
       "      <th>...</th>\n",
       "      <td>...</td>\n",
       "      <td>...</td>\n",
       "      <td>...</td>\n",
       "      <td>...</td>\n",
       "      <td>...</td>\n",
       "      <td>...</td>\n",
       "      <td>...</td>\n",
       "      <td>...</td>\n",
       "      <td>...</td>\n",
       "      <td>...</td>\n",
       "      <td>...</td>\n",
       "      <td>...</td>\n",
       "    </tr>\n",
       "    <tr>\n",
       "      <th>4195</th>\n",
       "      <td>파라다이스</td>\n",
       "      <td>14180.0</td>\n",
       "      <td>20.0</td>\n",
       "      <td>+0.14%</td>\n",
       "      <td>500.0</td>\n",
       "      <td>12999.0</td>\n",
       "      <td>91673.0</td>\n",
       "      <td>6.10</td>\n",
       "      <td>840179.0</td>\n",
       "      <td>21.20</td>\n",
       "      <td>1.95</td>\n",
       "      <td>코스닥</td>\n",
       "    </tr>\n",
       "    <tr>\n",
       "      <th>4196</th>\n",
       "      <td>휴젤</td>\n",
       "      <td>102500.0</td>\n",
       "      <td>300.0</td>\n",
       "      <td>-0.29%</td>\n",
       "      <td>500.0</td>\n",
       "      <td>12695.0</td>\n",
       "      <td>12385.0</td>\n",
       "      <td>57.19</td>\n",
       "      <td>38097.0</td>\n",
       "      <td>21.62</td>\n",
       "      <td>7.31</td>\n",
       "      <td>코스닥</td>\n",
       "    </tr>\n",
       "    <tr>\n",
       "      <th>4197</th>\n",
       "      <td>레이크머티리얼즈</td>\n",
       "      <td>19140.0</td>\n",
       "      <td>460.0</td>\n",
       "      <td>+2.46%</td>\n",
       "      <td>100.0</td>\n",
       "      <td>12581.0</td>\n",
       "      <td>65731.0</td>\n",
       "      <td>2.21</td>\n",
       "      <td>1410603.0</td>\n",
       "      <td>43.90</td>\n",
       "      <td>37.46</td>\n",
       "      <td>코스닥</td>\n",
       "    </tr>\n",
       "    <tr>\n",
       "      <th>4198</th>\n",
       "      <td>위메이드</td>\n",
       "      <td>35900.0</td>\n",
       "      <td>450.0</td>\n",
       "      <td>-1.24%</td>\n",
       "      <td>500.0</td>\n",
       "      <td>12133.0</td>\n",
       "      <td>33797.0</td>\n",
       "      <td>6.01</td>\n",
       "      <td>159348.0</td>\n",
       "      <td>-5.66</td>\n",
       "      <td>-37.05</td>\n",
       "      <td>코스닥</td>\n",
       "    </tr>\n",
       "    <tr>\n",
       "      <th>4199</th>\n",
       "      <td>오스코텍</td>\n",
       "      <td>31700.0</td>\n",
       "      <td>400.0</td>\n",
       "      <td>+1.28%</td>\n",
       "      <td>500.0</td>\n",
       "      <td>11989.0</td>\n",
       "      <td>37821.0</td>\n",
       "      <td>7.04</td>\n",
       "      <td>817566.0</td>\n",
       "      <td>-49.92</td>\n",
       "      <td>-32.29</td>\n",
       "      <td>코스닥</td>\n",
       "    </tr>\n",
       "  </tbody>\n",
       "</table>\n",
       "<p>4200 rows × 12 columns</p>\n",
       "</div>"
      ],
      "text/plain": [
       "           종목명       현재가      전일비     등락률     액면가       시가총액      상장주식수   \n",
       "0         삼성전자   70600.0   1100.0  -1.53%   100.0  4214666.0  5969783.0  \\\n",
       "1     LG에너지솔루션  543000.0   3000.0  +0.56%   500.0  1270620.0   234000.0   \n",
       "2       SK하이닉스  127700.0   3700.0  +2.98%  5000.0   929659.0   728002.0   \n",
       "3     삼성바이오로직스  782000.0   9000.0  -1.14%  2500.0   556581.0    71174.0   \n",
       "4     POSCO홀딩스  616000.0  22000.0  +3.70%  5000.0   520959.0    84571.0   \n",
       "...        ...       ...      ...     ...     ...        ...        ...   \n",
       "4195     파라다이스   14180.0     20.0  +0.14%   500.0    12999.0    91673.0   \n",
       "4196        휴젤  102500.0    300.0  -0.29%   500.0    12695.0    12385.0   \n",
       "4197  레이크머티리얼즈   19140.0    460.0  +2.46%   100.0    12581.0    65731.0   \n",
       "4198      위메이드   35900.0    450.0  -1.24%   500.0    12133.0    33797.0   \n",
       "4199      오스코텍   31700.0    400.0  +1.28%   500.0    11989.0    37821.0   \n",
       "\n",
       "      외국인비율         거래량     PER    ROE   소속  \n",
       "0     53.02  18220323.0   10.66  17.07  코스피  \n",
       "1      5.17    523737.0  122.02   5.75  코스피  \n",
       "2     52.14   8132775.0  -39.91   3.56  코스피  \n",
       "3     10.53     86441.0   69.99  11.42  코스피  \n",
       "4     30.43   3931612.0   24.42   6.11  코스피  \n",
       "...     ...         ...     ...    ...  ...  \n",
       "4195   6.10    840179.0   21.20   1.95  코스닥  \n",
       "4196  57.19     38097.0   21.62   7.31  코스닥  \n",
       "4197   2.21   1410603.0   43.90  37.46  코스닥  \n",
       "4198   6.01    159348.0   -5.66 -37.05  코스닥  \n",
       "4199   7.04    817566.0  -49.92 -32.29  코스닥  \n",
       "\n",
       "[4200 rows x 12 columns]"
      ]
     },
     "execution_count": 22,
     "metadata": {},
     "output_type": "execute_result"
    }
   ],
   "source": [
    "kospi = pd.concat(kospi_total)\n",
    "kospi['소속'] = '코스피'\n",
    "\n",
    "kosdak = pd.concat(kosdak_total)\n",
    "kosdak['소속'] = '코스닥'\n",
    "\n",
    "stock = pd.concat([kospi, kosdak], ignore_index=True)\n",
    "stock.to_excel(\"stock.xlsx\")\n",
    "stock"
   ]
  },
  {
   "cell_type": "code",
   "execution_count": 11,
   "metadata": {},
   "outputs": [],
   "source": [
    "url = requests.get(\"https://finance.naver.com/sise/dividend_list.naver\", headers=headers)\n",
    "html = BeautifulSoup(url.text)\n",
    "\n"
   ]
  },
  {
   "cell_type": "code",
   "execution_count": 33,
   "metadata": {},
   "outputs": [],
   "source": [
    "from tqdm import tqdm\n",
    "url = requests.get(\"https://finance.naver.com/sise/dividend_list.naver\", headers=headers)\n",
    "html = BeautifulSoup(url.text)"
   ]
  },
  {
   "cell_type": "code",
   "execution_count": 36,
   "metadata": {},
   "outputs": [],
   "source": [
    "table = html.find('table', class_ = 'type_1 tb_ty')\n",
    "table = pd.read_html(str(table), header=1)[0]\n",
    "\n",
    "table.dropna(subset=['종목명','3년전','2년전','1년전'])\n",
    "table = table[(table['1년전'] > table['2년전']) &  (table['2년전'] > table['3년전'])]\n",
    "\n",
    "t = \"\"\n",
    "for i in range(len(table)):\n",
    "    a = table.iloc[i]\n",
    "    t += (f\"{a['종목명']}: {a['3년전']}원 → {a['2년전']}원 → {a['1년전']}원  \\n\")\n",
    "\n",
    "f = open(\"배당금 3년 연속 상승 기업.txt\", 'w')\n",
    "f.write(t)\n",
    "f.close()"
   ]
  },
  {
   "cell_type": "code",
   "execution_count": null,
   "metadata": {},
   "outputs": [],
   "source": [
    "url = ('https://finance.naver.com/item/sise_day.naver?code=005930', headers = headers)\n",
    "html = BeautifulSoup(url.text)"
   ]
  }
 ],
 "metadata": {
  "kernelspec": {
   "display_name": "Python 3 (ipykernel)",
   "language": "python",
   "name": "python3"
  },
  "language_info": {
   "codemirror_mode": {
    "name": "ipython",
    "version": 3
   },
   "file_extension": ".py",
   "mimetype": "text/x-python",
   "name": "python",
   "nbconvert_exporter": "python",
   "pygments_lexer": "ipython3",
   "version": "3.9.13"
  }
 },
 "nbformat": 4,
 "nbformat_minor": 2
}
